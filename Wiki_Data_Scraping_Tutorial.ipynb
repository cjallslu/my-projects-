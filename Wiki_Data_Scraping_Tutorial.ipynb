{
 "cells": [
  {
   "cell_type": "code",
   "execution_count": 11,
   "metadata": {},
   "outputs": [],
   "source": [
    "import csv\n",
    "import urllib.request\n",
    "from bs4 import BeautifulSoup"
   ]
  },
  {
   "cell_type": "code",
   "execution_count": 16,
   "metadata": {},
   "outputs": [],
   "source": [
    "f = open('dataoutput.csv', 'w', newline = '')\n",
    "writer = csv.writer(f)\n",
    "soup = BeautifulSoup(urllib.request.urlopen(\"https://wikiola.fandom.com/wiki/Global_music_industry_market_share_data\")\n",
    "                    .read(), 'lxml')\n",
    "tbody = soup('table', {\"class\":\"wikitable plainrowheaders sortable\"})[0].find_all('tr')"
   ]
  },
  {
   "cell_type": "code",
   "execution_count": 17,
   "metadata": {},
   "outputs": [
    {
     "name": "stdout",
     "output_type": "stream",
     "text": [
      "['Market', 'Singles (millions)', 'Albums (millions)', 'DVDs (millions)', 'VHS cassettes (millions)', 'Total units (millions)', 'Retail value  US $ (millions)', 'Population (millions)']\n",
      "['aaa', '0', '0', '0', '0', '0', '0', '0']\n",
      "['US', '1.2', '292.8', '11.5', '0.6', '306', '4,562', '307.2']\n",
      "['Japan', '43.6', '125', '19', '0.01', '187.6', '4,244.5', '127.1']\n",
      "['Germany', '4.7', '103.3', '8.9', '', '116.9', '1,945.8', '82.3']\n",
      "['UK', '4.2', '119.4', '5.0', '', '128.6', '1,730.5', '61.1']\n",
      "['France', '2.8', '51', '3.4', '', '57.2', '1,157.5', '64.1']\n",
      "['Australia', '0.6', '29.4', '4', '0.002', '34', '456.2', '22']\n",
      "['Canada', '', '30.8', '2.3', '', '33.1', '401.6', '33.5']\n",
      "['The Netherlands', '0.7', '17.8', '2.8', '', '21.3', '340.6', '16.6']\n",
      "['Italy', '0.6', '16.6', '0.7', '0.01', '17.9', '293.8', '58.1']\n",
      "['Spain', '0.02', '15.2', '4', '0.01', '19.2', '266.8', '46.7']\n",
      "['Brazil', '0.002', '22.8', '6.0', '', '28.8', '246.9', '198.7']\n",
      "['Austria', '0.4', '8.4', '0.8', '', '9.6', '225.7', '8.2']\n",
      "['Belgium', '0.3', '10.7', '0.8', '', '11.8', '202.9', '10.4']\n",
      "['Switzerland', '0.1', '9.8', '0.3', '0.0001', '10.2', '192.4', '7.6']\n",
      "['South Africa', '0.3', '17.1', '2', '0.002', '19.4', '162.8', '49.1']\n",
      "['Sweden', '0.5', '13.6', '0.4', '0.001', '14.5', '162.3', '90.1']\n",
      "['Mexico', '0.03', '22.1', '1.6', '', '23.7', '160.3', '111.2']\n",
      "['Norway', '0.02', '8.3', '0.3', '', '8.6', '159.9', '4.7']\n",
      "['Denmark', '0.01', '6.8', '0.1', '', '6.9', '126.9', '5.5']\n",
      "['Poland', '0.02', '10.2', '1.3', '', '11.5', '123.28', '38.5']\n",
      "['Greece', '0.03', '6.2', '0.2', '', '6.4', '107.2', '10.7']\n",
      "['Finland', '0.1', '5.1', '0.3', '', '5.5', '98.3', '5.3']\n",
      "['South Korea', '0.01', '8.8', '0.2', '', '9', '93.3', '48.5']\n",
      "['India', '', '33.4', '0.3', '', '33.7', '89.7', '1,166.1']\n",
      "['Argentina', '0.004', '10.7', '1.3', '', '12', '89.2', '40.9']\n",
      "['Ireland', '0.2', '6.3', '0.2', '', '6.7', '87.7', '4.2']\n",
      "['Turkey', '', '10.3', '', '', '10.3', '80.7', '76.8']\n",
      "['Portugal', '0.04', '6.3', '0.6', '', '6.9', '71.1', '10.7']\n",
      "['New Zealand', '0.01', '4.6', '0.6', '', '5.2', '69.1', '4.2']\n",
      "['Taiwan', '0.3', '3.9', '0.6', '', '4.8', '53.9', '23']\n",
      "['Thailand', '', '4.6', '6.8', '', '11.4', '49.8', '65.9']\n",
      "['Czech Republic', '', '8.8', '', '', '8.8', '44.7', '10.2']\n",
      "['Hong Kong', '0.1', '2.7', '0.4', '', '3.2', '42.7', '7.1']\n",
      "['Venezuela', '', '1.2', '0.4', '', '1.6', '32.5', '26.8']\n",
      "['Indonesia', '', '7.6', '3', '', '10.6', '31.3', '240.3']\n",
      "['Hungary', '0.03', '3.6', '0.1', '0.0003', '3.7', '31.2', '9.9']\n",
      "['Colombia', '', '2.3', '0.2', '', '2.5', '30.1', '45.6']\n",
      "['China', '', '4.2', '0.8', '', '5', '28.8', '1,338.6']\n",
      "['Malaysia', '0.001', '2.5', '0.6', '', '3.1', '27.2', '25.7']\n",
      "['Philippines', '0.1', '2.5', '0.4', '', '3', '18.1', '98']\n",
      "['Singapore', '0.01', '1.6', '0.1', '', '1.7', '18.1', '4.7']\n",
      "['Croatia', '0.001', '2.4', '0.1', '0.0001', '2.5', '13.9', '4.5']\n",
      "['Chile', '', '0.9', '0.1', '', '1', '13.7', '16.6']\n",
      "['Slovak Republic', '', '1.4', '0.1', '', '1.5', '8.3', '5.5']\n",
      "['Central America', '', '0.5', '0.02', '', '0.5', '8.1', '24.2']\n",
      "['Uruguay', '', '0.5', '0.1', '', '0.6', '7.4', '3.5']\n",
      "['Bulgaria', '0.0001', '0.6', '0.03', '', '0.6', '4.6', '7.2']\n",
      "['Peru', '', '0.1', '0.02', '', '0.1', '2.3', '29.5']\n",
      "['Ecuador', '', '0.2', '0.01', '', '0.2', '2', '14.6']\n"
     ]
    }
   ],
   "source": [
    "for row in tbody:\n",
    "    cols = row.findChildren(recursive=False)\n",
    "    cols = [ele.text.strip() for ele in cols]\n",
    "    writer.writerow(cols)\n",
    "    writer.writerow(cols)\n",
    "    print(cols)"
   ]
  },
  {
   "cell_type": "code",
   "execution_count": 18,
   "metadata": {},
   "outputs": [],
   "source": [
    "f.close()"
   ]
  }
 ],
 "metadata": {
  "kernelspec": {
   "display_name": "Python 3",
   "language": "python",
   "name": "python3"
  },
  "language_info": {
   "codemirror_mode": {
    "name": "ipython",
    "version": 3
   },
   "file_extension": ".py",
   "mimetype": "text/x-python",
   "name": "python",
   "nbconvert_exporter": "python",
   "pygments_lexer": "ipython3",
   "version": "3.7.6"
  }
 },
 "nbformat": 4,
 "nbformat_minor": 4
}
